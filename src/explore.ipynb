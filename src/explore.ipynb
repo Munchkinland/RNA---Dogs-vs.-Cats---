{
    "cells": [
        {
            "cell_type": "markdown",
            "metadata": {},
            "source": [
                "# Explore here"
            ]
        },
        {
            "cell_type": "markdown",
            "metadata": {},
            "source": [
                "Import libraries"
            ]
        },
        {
            "cell_type": "code",
            "execution_count": 1,
            "metadata": {},
            "outputs": [
                {
                    "name": "stdout",
                    "output_type": "stream",
                    "text": [
                        "WARNING:tensorflow:From c:\\Users\\Rubén\\AppData\\Local\\Programs\\Python\\Python311\\Lib\\site-packages\\keras\\src\\losses.py:2976: The name tf.losses.sparse_softmax_cross_entropy is deprecated. Please use tf.compat.v1.losses.sparse_softmax_cross_entropy instead.\n",
                        "\n"
                    ]
                }
            ],
            "source": [
                "import os\n",
                "import numpy as np\n",
                "import matplotlib.pyplot as plt\n",
                "from tensorflow import keras\n",
                "from keras.preprocessing import image"
            ]
        },
        {
            "cell_type": "code",
            "execution_count": null,
            "metadata": {},
            "outputs": [],
            "source": [
                "import os\n",
                "from tensorflow.keras.preprocessing import image\n",
                "import matplotlib.pyplot as plt\n",
                "\n",
                "# Path to the directory containing your image data\n",
                "data_dir = \"../data/raw/train\"  # Cambia la ruta a la carpeta de entrenamiento\n",
                "\n",
                "# Get a list of all dog image file names\n",
                "dog_subfolder = os.path.join(data_dir, \"dog\")\n",
                "\n",
                "# Get a list of all dog image file names\n",
                "dog_image_files = os.listdir(dog_subfolder)\n",
                "\n",
                "# Load the first nine dog images\n",
                "dog_images = []\n",
                "for i in range(9):\n",
                "    img_path = os.path.join(dog_subfolder, dog_image_files[i])\n",
                "    img = image.load_img(img_path, target_size=(224, 224))  # Ajusta target_size según sea necesario\n",
                "    img_array = image.img_to_array(img)\n",
                "    img_array /= 255.0  # Normalize pixel values to [0, 1]\n",
                "    dog_images.append(img_array)\n",
                "\n",
                "# Create a single figure to display all nine images\n",
                "plt.figure(figsize=(12, 8))\n",
                "\n",
                "for i in range(9):\n",
                "    plt.subplot(3, 3, i + 1)\n",
                "    plt.imshow(dog_images[i])\n",
                "    plt.title('Dog Image')\n",
                "    plt.axis('off')\n",
                "\n",
                "# Adjust Layout\n",
                "plt.tight_layout()\n",
                "\n",
                "# Show the pictures\n",
                "plt.show()\n"
            ]
        }
    ],
    "metadata": {
        "kernelspec": {
            "display_name": "Python 3.8.13 64-bit ('3.8.13')",
            "language": "python",
            "name": "python3"
        },
        "language_info": {
            "codemirror_mode": {
                "name": "ipython",
                "version": 3
            },
            "file_extension": ".py",
            "mimetype": "text/x-python",
            "name": "python",
            "nbconvert_exporter": "python",
            "pygments_lexer": "ipython3",
            "version": "3.11.3"
        },
        "orig_nbformat": 4,
        "vscode": {
            "interpreter": {
                "hash": "110cc1dee26208153f2972f08a2ad52b6a56238dc66d48e87fb757ef2996db56"
            }
        }
    },
    "nbformat": 4,
    "nbformat_minor": 2
}
